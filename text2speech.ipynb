{
 "cells": [
  {
   "cell_type": "code",
   "execution_count": 2,
   "metadata": {},
   "outputs": [],
   "source": [
    "from gtts import gTTS \n",
    "import os"
   ]
  },
  {
   "cell_type": "code",
   "execution_count": 3,
   "metadata": {},
   "outputs": [],
   "source": [
    "class t2s:\n",
    "    def __init__(self):\n",
    "        tex1=input(\"Enter the words you want to convert to speech:\")\n",
    "        self.tex1 = tex1\n",
    "    def conv(self):\n",
    "        language=\"en\"\n",
    "        speech = gTTS(text = self.tex1, lang = language, slow = False)\n",
    "        speech.save(\"text.mp3\")\n",
    "        os.system(\"start text.mp3\")"
   ]
  },
  {
   "cell_type": "code",
   "execution_count": 4,
   "metadata": {},
   "outputs": [
    {
     "name": "stdout",
     "output_type": "stream",
     "text": [
      "Enter the words you want to convert to speech:I am a data analytics student. Now i have completed my text to speech project successfully.\n"
     ]
    }
   ],
   "source": [
    "check = t2s()\n",
    "check.conv()"
   ]
  }
 ],
 "metadata": {
  "kernelspec": {
   "display_name": "Python 3",
   "language": "python",
   "name": "python3"
  },
  "language_info": {
   "codemirror_mode": {
    "name": "ipython",
    "version": 3
   },
   "file_extension": ".py",
   "mimetype": "text/x-python",
   "name": "python",
   "nbconvert_exporter": "python",
   "pygments_lexer": "ipython3",
   "version": "3.8.5"
  }
 },
 "nbformat": 4,
 "nbformat_minor": 4
}
